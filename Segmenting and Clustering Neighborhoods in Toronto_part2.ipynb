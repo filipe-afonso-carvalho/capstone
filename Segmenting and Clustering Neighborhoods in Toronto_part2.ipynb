{
    "nbformat_minor": 1, 
    "cells": [
        {
            "source": "# Segmenting and Clustering Neighborhoods in Toronto", 
            "cell_type": "markdown", 
            "metadata": {
                "collapsed": true
            }
        }, 
        {
            "source": "### 1: Scrape the Wiki page using BeautifulSoup\n\nWe start by importing requests library to send organic, grass-fed HTTP/1.1 requests.\n<br>\nBeautifulSoup will read the source code for a given web page and create a BeautifulSoup (soup) object with the BeautifulSoup function.\n<br>\n<br>\nIf we check the source code of the Wiki page, we can see the table we need is in class 'wikitable sortable jquery-tablesorter'. Let's retrieve that class from the soup object with the find() method.", 
            "cell_type": "markdown", 
            "metadata": {}
        }, 
        {
            "execution_count": null, 
            "cell_type": "code", 
            "metadata": {}, 
            "outputs": [], 
            "source": "import requests\nfrom bs4 import BeautifulSoup\n\nwiki_url = requests.get('https://en.wikipedia.org/wiki/List_of_postal_codes_of_Canada:_M').text\nsoup = BeautifulSoup(wiki_url,'html.parser')\n\nMy_table = soup.find('table',{'class':'wikitable sortable'})\nMy_table"
        }, 
        {
            "source": "### 2: Turn HTML code into an array\n\nAs we can see, each line of the table starts with 'tr', and each element of the column starts with 'th' (for the headers) or 'td'.\n<br>\nLet's create an empty array words. Then, run a for loop on every line (identified by 'tr').\n<br>\nLooping on each line, let's use the text.split() method to separate words, identified with 'th' or 'td', and append them to our array words.", 
            "cell_type": "markdown", 
            "metadata": {}
        }, 
        {
            "execution_count": null, 
            "cell_type": "code", 
            "metadata": {}, 
            "outputs": [], 
            "source": "words = []\n\nfor items in My_table.find_all(\"tr\"):\n    data = [' '.join(item.text.split()) for item in items.find_all(['th','td'])]\n    words.append(data)\n    \nwords[0:5]"
        }, 
        {
            "source": "### 3: Turn the array of words into a DataFrame\n\nWe now have a array of rows of the original table. Let's turn it into a DataFrame.\n<br>\nFirst, we need to import pandas and DataFrame. We then use from_records() method to convert the words array into a DataFrame, passing the first row as header. ", 
            "cell_type": "markdown", 
            "metadata": {}
        }, 
        {
            "execution_count": null, 
            "cell_type": "code", 
            "metadata": {}, 
            "outputs": [], 
            "source": "import pandas as pd\nfrom pandas import DataFrame\n\npostal_df = DataFrame.from_records(words[1:], columns=words[0])\npostal_df.head()"
        }, 
        {
            "source": "### 4: Data preparation\n\nLet's remove the rows where the Borough is Not assigned.\n<br>\nWe then group the DataFrame by Postcode and Borough, joining the aggregated Neighbourhoods into a string. The index is lost in this operation, se we need to reset it.\n<br>\n<br>\nFinally, we locate all rows where Neighbourhood is Not assigned, and replace the it with the respective Borough.\n<br>\nThe shape of our DataFrame is displayed below.", 
            "cell_type": "markdown", 
            "metadata": {}
        }, 
        {
            "execution_count": null, 
            "cell_type": "code", 
            "metadata": {}, 
            "outputs": [], 
            "source": "postal_df = postal_df[postal_df.Borough != 'Not assigned']\npostal_df = pd.DataFrame(postal_df.groupby(['Postcode', 'Borough'])['Neighbourhood'].apply(', '.join))\npostal_df = postal_df.reset_index()\n\npostal_df.loc[postal_df['Neighbourhood'] == 'Not assigned', 'Neighbourhood'] = postal_df['Borough']\n\npostal_df.head()"
        }, 
        {
            "execution_count": null, 
            "cell_type": "code", 
            "metadata": {}, 
            "outputs": [], 
            "source": "postal_df.shape"
        }, 
        {
            "source": "### 5: Get coordinates of each neighborhood\n\nInstall and import the Geocoder Python package, to retrieve the latitude and the longitude coordinates of each neighborhood.\n<br>\nSince the package can be very unreliable, we will run a while loop for each postal code.\n<br>\nFinally, we create two new columns for latitude and longitude in our DataFrame, applying the while loop to each of the postal codes.\n<br>\n<br>\nSince I reached the limit of queries for Geocoder, I'm just gonna import the csv with the geographical coordinates, as a new DataFrame, and merge it with my DataFrame.", 
            "cell_type": "markdown", 
            "metadata": {}
        }, 
        {
            "execution_count": null, 
            "cell_type": "code", 
            "metadata": {}, 
            "outputs": [], 
            "source": "'''\n! pip install geocoder\nimport geocoder # import geocoder\n\ndef get_coord(code):\n    # initialize your variable to None\n    lat_lng_coords = None\n\n    # loop until you get the coordinates\n    while(lat_lng_coords is None):\n        g = geocoder.google(str(code) + ', Toronto, Ontario')\n        lat_lng_coords = g.latlng\n    \n    latitude = lat_lng_coords[0]\n    longitude = lat_lng_coords[1]\n    return latitude, longitude\n\n\npostal_df['Latitude'], postal_df['Longitude'] = postal_df.apply(lambda row: get_coord(row['Postcode']), axis=1)\npostal_df\n'''\n\nurl = 'http://cocl.us/Geospatial_data'\ncoordinates = pd.read_csv(url)\n\npostal_df = postal_df.merge(coordinates, how='inner', left_on='Postcode', right_on='Postal Code')\npostal_df.drop(columns='Postal Code', inplace=True) # Drop repeated column 'Postal Code'\npostal_df.head()"
        }
    ], 
    "metadata": {
        "kernelspec": {
            "display_name": "Python 3.5", 
            "name": "python3", 
            "language": "python"
        }, 
        "language_info": {
            "mimetype": "text/x-python", 
            "nbconvert_exporter": "python", 
            "version": "3.5.5", 
            "name": "python", 
            "file_extension": ".py", 
            "pygments_lexer": "ipython3", 
            "codemirror_mode": {
                "version": 3, 
                "name": "ipython"
            }
        }
    }, 
    "nbformat": 4
}