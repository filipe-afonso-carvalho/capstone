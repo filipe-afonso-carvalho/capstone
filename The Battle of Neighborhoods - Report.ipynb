{
    "nbformat_minor": 1, 
    "cells": [
        {
            "source": "# Capstone Project - The Battle of Neighborhoods - Report", 
            "cell_type": "markdown", 
            "metadata": {
                "collapsed": true
            }
        }, 
        {
            "source": "### 1. Intro\nI am the owner of a reputable management consultancy firm, based in Madrid, Spain. My firm is contacted regularly by companies and entrepreneurs wishing to invest in the Restaurant business. Their main concern is finding out is which part of the town their restaurants should be located. <br><br>\nI decide to create an algorithm to cluster the city\u2019s Neighborhoods, or Barrios, according to different features, in order to present different location possibilities to my customers according to the restaurant typology.", 
            "cell_type": "markdown", 
            "metadata": {}
        }, 
        {
            "source": "### 2. Data\nThe first thing I need is geographical data for the Barrios of Madrid. I will need a list of Barrios and their area. This can be obtained in Wikipedia. I will then convert this into geographical coordinates with geopy. With Foursquare API, I\u2019ll retrieve the food venues in a range of each Barrio. I will approximate the number of food venues per km2 in each Barrio. This will be the data I will use to fit the clusters with K-means.", 
            "cell_type": "markdown", 
            "metadata": {}
        }, 
        {
            "source": "### 3. Methodology\nThe first step is to retrieve the list of Barrios from Wikipedia and create a dataframe. I will scrape the Wiki page using BeautifulSoup and turn the HTML code into an array. Then, I will turn the array of words into a DataFrame and remove extra columns 'N\u00famero' and 'Imagen'. <br><br>\nDue to geopy request limit, I will filter the central Madrid districts 'Centro', 'Retiro', 'Salamanca' and 'Chamart\u00edn'.<br>\nI then create a Folium map centre in Madrid, with a marker in the location of each Barrio.<br><br>\nUsing Foursquare API, I\u2019ll retrieve 100 food venues closest to each Barrio geolocation, with a range of 500 m2.<br><br>\nThe function pd.get_dummies() converts the venues category into a one-hot encoding. I then group the venues by Barrio and category. Averaging this, I get the frequency of each category in each barrio. <br>\nDividing the number of retrieved food venues by the area of each Barrio, I calculate the approximate number of restaurants per km2. <br>\nFinally, I\u2019ll create a new dataframe with the 20 most common venues per Barrio.<br><br>\nI fit a K-means algorithm to cluster the neighborhoods according to the typology and concentration of restaurants.<br>\nRecreating the Folium map, I display the Barrios in a map, with a color code for cluster and useful information in each marker.", 
            "cell_type": "markdown", 
            "metadata": {}
        }, 
        {
            "source": "### 4. Results\nThe outcome is 3 clusters of restaurants: <br><br>\nThe central Madrid cluster seems to be characterized by a high concentration of restaurants. The typology seems pretty general places. A good way to refine this analysis, would be adding price and socioeconomic data to our features.<br><br>\nThe outer Madrid cluster is characterized by a medium concentration of restaurants. We can find a lot of ethnic food places there.<br><br>\nThe suburbs cluster is characterized by a low concentration of restaurants. The typology seems to be of low-cost places, but we need more data to confirm this.", 
            "cell_type": "markdown", 
            "metadata": {}
        }, 
        {
            "source": "### 5. Discussion\nOne of the issues I found during this project was the imitation of geopy requests. With more requests or another source I could get data for more Barrios. This could improve my cluster classification. <br><br>\nMy analysis seems somewhat limited because it uses only geographical data. A good improvement would be to add socioeconomic data of the Barrios, like purchasing power or m2 value. I could also add more data bout the venues like customer ratings and prices. <br><br>\nFinally, the Foursquare API retrieves the food venues based on a geographical coordinate and a radius. In some cases, the same venue can be in different Barrios or some venues inside a Barrio can be outside the radius. This is a limitation.", 
            "cell_type": "markdown", 
            "metadata": {}
        }, 
        {
            "source": "### 6. Conclusion\nMy analysis is somewhat simple, but the results are within expected results. The center of Madrid presents higher concentration of restaurants. Indeed, it\u2019s in the center we find most touristic hotspots and it is there most people choose to spend their evenings, do shopping, etc. <br><br>\nThe outer Madrid cluster is the alternative area. Indeed, many of the Barrios are now trendy and home to foreign communities. We would expect gentrification to happen here, and maybe that\u2019s why we find a medium concentration of restaurants and a lot of ethnical food places.<br><br>\nFinally, the suburbs present a low concentration of restaurants. More data would be needed to confirm this, but there seems to be a prevalence of low-cost and fast-food places.", 
            "cell_type": "markdown", 
            "metadata": {}
        }
    ], 
    "metadata": {
        "kernelspec": {
            "display_name": "Python 3.5", 
            "name": "python3", 
            "language": "python"
        }, 
        "language_info": {
            "mimetype": "text/x-python", 
            "nbconvert_exporter": "python", 
            "version": "3.5.5", 
            "name": "python", 
            "file_extension": ".py", 
            "pygments_lexer": "ipython3", 
            "codemirror_mode": {
                "version": 3, 
                "name": "ipython"
            }
        }
    }, 
    "nbformat": 4
}